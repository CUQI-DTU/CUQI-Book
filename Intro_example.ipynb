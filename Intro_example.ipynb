{
 "cells": [
  {
   "cell_type": "markdown",
   "metadata": {},
   "source": [
    "# Small example: ​\n",
    "## World’s simplest inverse problem?"
   ]
  },
  {
   "cell_type": "markdown",
   "metadata": {},
   "source": [
    "Given observed data $b$, determine $x_1$, and $x_2$:\n",
    "\n",
    "$$b = x_1 + x_2 + e \\;\\;\\mathrm{with}\\;\\; e \\sim \\mathrm{Gaussain}(0, 0.1)$$ \n",
    "\n",
    "$$b = \\mathbf{A}\\mathbf{x} + e = \\large(1,1\\large)\\binom{x_1}{x_2} + e$$\n",
    "\n",
    "|variable                      |dimension      |\n",
    "|:-----------------------------|:--------------|\n",
    "|$x$ parameters to be inferred |2-dimensional​  |\n",
    "|$A$ forward model             |1-by-2 matrix  |\n",
    "|$b$ data                      | 1-dimensional |\n",
    "|$e$ noise                     |1-dimensional  ​|\n",
    "\n",
    "Ill-posed since solution not unique (Hadamard 2), i.e., for some given value of $b$, e.g., $b=3$, all points $(x_1, x_2)$ that satisfy $x_2 = 3 - x_1$ are solutions to the (noise-free) problem."
   ]
  },
  {
   "cell_type": "code",
   "execution_count": null,
   "metadata": {
    "tags": [
     "hide-cell"
    ]
   },
   "outputs": [],
   "source": [
    "from cuqi.distribution import Gaussian\n",
    "from cuqi.problem import BayesianProblem\n",
    "from cuqi.model import LinearModel\n",
    "import numpy as np\n",
    "import matplotlib.pyplot as plt"
   ]
  },
  {
   "cell_type": "code",
   "execution_count": null,
   "metadata": {},
   "outputs": [],
   "source": [
    "e = Gaussian(0, 0.1)\n",
    "samples = e.sample(10000)\n",
    "samples.plot_trace()"
   ]
  },
  {
   "cell_type": "code",
   "execution_count": null,
   "metadata": {},
   "outputs": [],
   "source": [
    "N = 1001\n",
    "gridmin = -5\n",
    "gridmax =  5\n",
    "grid = np.linspace(gridmin, gridmax, N)"
   ]
  },
  {
   "cell_type": "code",
   "execution_count": null,
   "metadata": {},
   "outputs": [],
   "source": [
    "def plot_pdf(distb, xgrid):\n",
    "    e_pdf = np.zeros(xgrid.shape)\n",
    "    for k in range(len(grid)):\n",
    "        e_pdf[k] = distb.pdf(grid[k])[0]\n",
    "    plt.plot(grid, e_pdf)"
   ]
  },
  {
   "cell_type": "code",
   "execution_count": null,
   "metadata": {},
   "outputs": [],
   "source": [
    "plot_pdf(e, grid)"
   ]
  },
  {
   "cell_type": "markdown",
   "metadata": {},
   "source": [
    "## Data distribution\n",
    "\n",
    "Data distribution follows from noise distribution $e \\sim \\mathrm{Gaussain}(0, 0.1)$, $b = \\mathbf{A}\\mathbf{x} + e $\n",
    "\n",
    "\n",
    "$$ b | \\mathbf{x} \\sim \\mathrm{Gaussian}(\\mathbf{A}\\mathbf{x}, \\sigma^2\\mathbf{I})$$\n",
    "\n",
    "$$ \\pi (b | \\mathbf{x}) = \\frac{1}{\\sqrt{(2 \\pi)^m \\sigma^{2m}}} \\mathrm{exp}\\left(-\\frac{||\\mathbf{A}\\mathbf{x}- b||^2}{2\\sigma^2}\\right) $$\n",
    "\n",
    "\n",
    "\n",
    "Data distribution is conditional – only given an $\\mathbf{x}$ can be evaluated"
   ]
  },
  {
   "cell_type": "code",
   "execution_count": null,
   "metadata": {},
   "outputs": [],
   "source": [
    "Amat = np.array([1.0, 1.0])\n",
    "Amat.shape = (1,2)"
   ]
  },
  {
   "cell_type": "code",
   "execution_count": null,
   "metadata": {},
   "outputs": [],
   "source": [
    "A = LinearModel( Amat )\n",
    "b = Gaussian(A, 0.1)\n",
    "b(x=[ 1, 2])\n",
    "b(x=[-1,-1])"
   ]
  },
  {
   "cell_type": "code",
   "execution_count": null,
   "metadata": {},
   "outputs": [],
   "source": [
    "plot_pdf(b(x=[ 1, 2]), grid)"
   ]
  },
  {
   "cell_type": "code",
   "execution_count": null,
   "metadata": {},
   "outputs": [],
   "source": [
    "plot_pdf(b(x=[ -1, -1]), grid)"
   ]
  },
  {
   "cell_type": "markdown",
   "metadata": {},
   "source": [
    "Can be used to simulate noisy data from known parameter\n"
   ]
  },
  {
   "cell_type": "code",
   "execution_count": null,
   "metadata": {},
   "outputs": [],
   "source": [
    "b(x=[ 1, 2]).sample(1000)\t\t\t\t"
   ]
  },
  {
   "cell_type": "markdown",
   "metadata": {},
   "source": [
    "## Likelihood function\n",
    "\n",
    "Where data distribution is the distribution of $b$ for a given $\\mathbf{x}$\n",
    "\n",
    "Likelihood function:  Fixed observed data $b^\\mathrm{obs}$ and consider function of \n",
    "\n",
    "$$L (\\mathbf{x} | b^\\mathrm{obs}) \\coloneqq \\pi (b^\\mathrm{obs} | \\mathbf{x})$$\n",
    "\n",
    "\n",
    "Example, given observed data  $b^\\mathrm{obs}  = 3$\n",
    "\n",
    "$$L (x_1, x_2 | b=3) = \\frac{1}{0.1\\sqrt{2 \\pi }} \\mathrm{exp}\\left(-\\frac{(x_1+x_2- 3)^2}{2\\cdot 0.1^2}\\right) $$\n",
    "\n",
    "\n"
   ]
  },
  {
   "cell_type": "code",
   "execution_count": null,
   "metadata": {},
   "outputs": [],
   "source": [
    "b_obs = 3\n",
    "likelihood = b(b=b_obs)\n",
    "print(likelihood)"
   ]
  },
  {
   "cell_type": "code",
   "execution_count": null,
   "metadata": {},
   "outputs": [],
   "source": [
    "N2 = 201\n",
    "grid2min = -5.0\n",
    "grid2max = 5.0"
   ]
  },
  {
   "cell_type": "code",
   "execution_count": null,
   "metadata": {},
   "outputs": [],
   "source": [
    "grid1d = np.linspace(grid2min, grid2max, N2)\n",
    "grid1, grid2 = np.meshgrid(grid1d, grid1d)\n",
    "pixelwidth = (grid2max-grid2min)/(N2-1)"
   ]
  },
  {
   "cell_type": "code",
   "execution_count": null,
   "metadata": {},
   "outputs": [],
   "source": [
    "L_vals = np.zeros((N2,N2))\n",
    "for ii in range(N2):\n",
    "    for jj in range(N2):\n",
    "        L_vals[ii,jj] = np.exp(likelihood([grid1[ii,jj],grid2[ii,jj]]).value[0])"
   ]
  },
  {
   "cell_type": "code",
   "execution_count": null,
   "metadata": {},
   "outputs": [],
   "source": [
    "def plot2d(vals):\n",
    "    hp = 0.5*pixelwidth\n",
    "    extent = (gridmin-hp, gridmax+hp, gridmin-hp, gridmax+hp)\n",
    "    plt.imshow(vals, origin='lower', extent=extent)\n",
    "    plt.colorbar()"
   ]
  },
  {
   "cell_type": "code",
   "execution_count": null,
   "metadata": {},
   "outputs": [],
   "source": [
    "plot2d(L_vals)"
   ]
  },
  {
   "cell_type": "markdown",
   "metadata": {},
   "source": [
    "Plot likelihood function with line $x_2 = 3-x_1$ by specifying two points a and b"
   ]
  },
  {
   "cell_type": "code",
   "execution_count": null,
   "metadata": {},
   "outputs": [],
   "source": [
    "plot2d(L_vals)\n",
    "x1a = 5\n",
    "x2a = (b_obs - Amat[0,0]*x1a)/Amat[0,1]\n",
    "x2b = 5\n",
    "x1b = (b_obs - Amat[0,1]*x2b)/Amat[0,0]\n",
    "plt.plot([x1a, x1b], [x2a, x2b], '--r')\n",
    "plt.xlim([grid2min, grid2max])\n",
    "plt.ylim([grid2min, grid2max])"
   ]
  },
  {
   "cell_type": "markdown",
   "metadata": {
    "tags": []
   },
   "source": [
    "## Maximum Likelihood\n",
    "### Maximum likelihood (ML) point estimate\n",
    "- Equivalently, minimizer of negative log of likelihood\n",
    "- In the case of Gaussian noise is the least-squares solution\n",
    "\n",
    "$$\\mathbf{x}^* = \\argmin_\\mathbf{x} \\frac{1}{2 \\sigma^2} ||\\mathbf{A}\\mathbf{x}- b^\\mathrm{obs}||_2^2$$\n",
    "\n",
    "### For the example\n",
    "- No unique ML point.\n",
    "- Any  $\\mathbf{x}$  with $x_2  = -x_1+ 3$ \n",
    "- This is expected, since problem we are solving is: $3 = x_1 + x_2$\n",
    "\n",
    "\n",
    "## The posterior distribution\n",
    "### Bayes’ rule\n",
    "- Posterior proportional to product of **likelihood** and **prior**\n",
    "$$\\pi(\\mathbf{x} | b) \\propto \\pi( b|\\mathbf{x})\\pi(\\mathbf{x})$$\n",
    "\n",
    "- Note that it is the likelihood and not the data distribution, despite often written that way.\n",
    "\n",
    "### Bayesian approach: Use prior to express belief about solution\n",
    "- Common choice for simplicity: Gaussian prior\n",
    "$$ \\mathbf{x} \\sim \\mathrm{Gaussian}(\\mathbf{0}, \\delta^2 \\mathbf{I})$$\n",
    "\n",
    "$$ \\pi (\\mathbf{x}) = \\frac{1}{\\sqrt{(2 \\pi)^n \\delta^{2n}}} \\mathrm{exp}\\left(-\\frac{||\\mathbf{x}||^2}{2\\delta^2}\\right) $$\n",
    "\n",
    "Our example"
   ]
  },
  {
   "cell_type": "code",
   "execution_count": null,
   "metadata": {},
   "outputs": [],
   "source": [
    "x = Gaussian(np.zeros(2), 2.5)"
   ]
  },
  {
   "cell_type": "code",
   "execution_count": null,
   "metadata": {},
   "outputs": [],
   "source": [
    "x_pdf = np.zeros((N2,N2))\n",
    "for ii in range(N2):\n",
    "    for jj in range(N2):\n",
    "        x_pdf[ii,jj] = x.pdf([grid1[ii,jj],grid2[ii,jj]])[0]"
   ]
  },
  {
   "cell_type": "code",
   "execution_count": null,
   "metadata": {},
   "outputs": [],
   "source": [
    "plot2d(x_pdf)"
   ]
  },
  {
   "cell_type": "markdown",
   "metadata": {},
   "source": [
    "## Posterior"
   ]
  },
  {
   "cell_type": "code",
   "execution_count": null,
   "metadata": {},
   "outputs": [],
   "source": [
    "post_pdf = x_pdf*L_vals"
   ]
  },
  {
   "cell_type": "code",
   "execution_count": null,
   "metadata": {},
   "outputs": [],
   "source": [
    "plot2d(post_pdf)"
   ]
  },
  {
   "cell_type": "markdown",
   "metadata": {},
   "source": [
    "## The posterior distribution and\u000b",
    "Maximum a posteriori estimate\n",
    "### Maximum a posteriori (MAP) estimate\n",
    "- Maximizer of posterior\n",
    "$$\\mathbf{x}^* = \\argmax_\\mathbf{x} \\pi(\\mathbf{x} | b)$$\n",
    "- In the case with Gaussian noise and Gaussian prior, this is the classic Tikhonov solution\n",
    "\n",
    "$$\\mathbf{x}^* = \\argmin_\\mathbf{x} \\frac{1}{2 \\sigma^2} ||\\mathbf{A}\\mathbf{x}- b^\\mathrm{obs}||_2^2 + \\frac{1}{2\\delta^2}||\\mathbf{x} ||^2_2$$\n",
    "\n",
    "\n"
   ]
  },
  {
   "cell_type": "code",
   "execution_count": null,
   "metadata": {},
   "outputs": [],
   "source": [
    "b = Gaussian(A@x, 0.1)\n",
    "BP = BayesianProblem(b, x)\n",
    "BP.set_data(b=3)"
   ]
  },
  {
   "cell_type": "code",
   "execution_count": null,
   "metadata": {},
   "outputs": [],
   "source": [
    "x_map = BP.MAP()\n",
    "print(x_map)"
   ]
  },
  {
   "cell_type": "markdown",
   "metadata": {},
   "source": [
    "but  $ 1.47 + 1.47 \\neq 3$.\n",
    "\n",
    "why?"
   ]
  },
  {
   "cell_type": "code",
   "execution_count": null,
   "metadata": {},
   "outputs": [],
   "source": [
    "sol_samples = BP.sample_posterior(100)"
   ]
  },
  {
   "cell_type": "code",
   "execution_count": null,
   "metadata": {},
   "outputs": [],
   "source": [
    "sol_samples.plot_trace()"
   ]
  },
  {
   "cell_type": "code",
   "execution_count": null,
   "metadata": {},
   "outputs": [],
   "source": [
    "plot2d(post_pdf)\n",
    "plt.plot(sol_samples.samples[0,:],sol_samples.samples[1,:],'.m')\n",
    "plt.plot(x_map[0], x_map[1], 'or')"
   ]
  },
  {
   "cell_type": "code",
   "execution_count": null,
   "metadata": {},
   "outputs": [],
   "source": []
  },
  {
   "cell_type": "code",
   "execution_count": null,
   "metadata": {},
   "outputs": [],
   "source": []
  }
 ],
 "metadata": {
  "kernelspec": {
   "display_name": "CUQIpy",
   "language": "python",
   "name": "cuqipy"
  },
  "language_info": {
   "codemirror_mode": {
    "name": "ipython",
    "version": 3
   },
   "file_extension": ".py",
   "mimetype": "text/x-python",
   "name": "python",
   "nbconvert_exporter": "python",
   "pygments_lexer": "ipython3",
   "version": "3.11.5"
  }
 },
 "nbformat": 4,
 "nbformat_minor": 4
}
