{
 "cells": [
  {
   "cell_type": "markdown",
   "metadata": {},
   "source": [
    "**Under construction for prior.ipynb**\n",
    "- Point discretization\n",
    "- Series expansion KL / custom KL (dim reduction), something similar to paper II, understanding these parameterization\n",
    "- Distribution with largest entropy\n",
    "- ““uniquely determined as the one which is maximally noncommittal with regard to missing information, in that it agrees with what is known, but expresses maximum uncertainty with respect to all other matters”.”\n",
    "- Ex, given a grid, compute the entropy, insight on why we often use the Gaussian\n",
    "- Exercise about “Mixtures of conjugate priors are also conjugate”\n",
    "- This is the distribution, this is the likelihood, create a distribution that proves conjugacy \n",
    "- Conjugacy example, example 2, build posterior of two gaussian prior and likelihood, verify it is the same thing by sampling (slide 38)/ covariance update?"
   ]
  },
  {
   "cell_type": "markdown",
   "metadata": {},
   "source": []
  }
 ],
 "metadata": {
  "language_info": {
   "name": "python"
  }
 },
 "nbformat": 4,
 "nbformat_minor": 2
}
